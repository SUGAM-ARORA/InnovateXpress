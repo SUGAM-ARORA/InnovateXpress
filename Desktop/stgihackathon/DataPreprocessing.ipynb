{
 "cells": [
  {
   "cell_type": "code",
   "execution_count": 1,
   "metadata": {},
   "outputs": [
    {
     "name": "stdout",
     "output_type": "stream",
     "text": [
      "Data filtering complete. Filtered data with VISA_CLASS values 'H-1B' or 'H1B' and DECISION_DATE year 2016 saved to filtered_data.csv\n"
     ]
    }
   ],
   "source": [
    "import csv\n",
    "from datetime import datetime\n",
    "\n",
    "# Define the path to your CSV file\n",
    "csv_file_path = \"/Users/akshitsharma/Desktop/new16.csv\"\n",
    "\n",
    "# Define a list of columns to retain\n",
    "columns_to_retain = [\n",
    "    'CASE_NUMBER',\n",
    "    'DECISION_DATE',\n",
    "    'EMPLOYER_NAME',\n",
    "    'VISA_CLASS',\n",
    "    'NAIC_CODE',\n",
    "    'WAGE_UNIT_OF_PAY',\n",
    "    'PREVAILING_WAGE'\n",
    "]\n",
    "\n",
    "# Define a function to filter the data and keep only the specified columns\n",
    "def filter_data(row):\n",
    "    filtered_row = {key: row[key] for key in row if key in columns_to_retain}\n",
    "    return filtered_row\n",
    "\n",
    "# Define a new file for the filtered data\n",
    "output_file_path = \"filtered_data.csv\"\n",
    "\n",
    "# Open the CSV file for reading with the specified encoding (e.g., ISO-8859-1)\n",
    "with open(csv_file_path, 'r', encoding='ISO-8859-1') as infile:\n",
    "    # Open a new CSV file for writing the filtered data\n",
    "    with open(output_file_path, 'w', newline='') as outfile:\n",
    "        # Initialize CSV readers and writers\n",
    "        reader = csv.DictReader(infile)\n",
    "        writer = csv.DictWriter(outfile, fieldnames=columns_to_retain)\n",
    "        writer.writeheader()\n",
    "\n",
    "        # Loop through the rows in the CSV, apply both filtering conditions, and write to the new file\n",
    "        for row in reader:\n",
    "            visa_class = row.get('VISA_CLASS')\n",
    "\n",
    "            try:\n",
    "                \n",
    "                if visa_class in ['H-1B', 'H1B']:\n",
    "                    filtered_row = filter_data(row)\n",
    "                    writer.writerow(filtered_row)\n",
    "            except (ValueError, TypeError):\n",
    "                # Handle invalid date format or other exceptions, and exclude rows not matching the conditions\n",
    "                pass\n",
    "\n",
    "print(\"Data filtering complete. Filtered data with VISA_CLASS values 'H-1B' or 'H1B' and DECISION_DATE year 2016 saved to\", output_file_path)\n"
   ]
  }
 ],
 "metadata": {
  "kernelspec": {
   "display_name": "venv",
   "language": "python",
   "name": "python3"
  },
  "language_info": {
   "codemirror_mode": {
    "name": "ipython",
    "version": 3
   },
   "file_extension": ".py",
   "mimetype": "text/x-python",
   "name": "python",
   "nbconvert_exporter": "python",
   "pygments_lexer": "ipython3",
   "version": "3.10.4"
  }
 },
 "nbformat": 4,
 "nbformat_minor": 2
}
